{
 "cells": [
  {
   "cell_type": "code",
   "execution_count": 5,
   "id": "6a191643",
   "metadata": {},
   "outputs": [],
   "source": [
    "import pandas as pd\n",
    "import numpy as np\n",
    "import nltk\n",
    "from nltk.corpus import stopwords\n",
    "from nltk.tokenize import word_tokenize\n",
    "from nltk.stem import WordNetLemmatizer\n",
    "from sklearn.feature_extraction.text import TfidfVectorizer\n",
    "from sklearn.model_selection import train_test_split\n",
    "from sklearn.impute import SimpleImputer\n",
    "from xgboost import XGBClassifier\n",
    "from sklearn.metrics import accuracy_score"
   ]
  },
  {
   "cell_type": "code",
   "execution_count": 6,
   "id": "9337cef2",
   "metadata": {},
   "outputs": [],
   "source": [
    "# Load the Excel file\n",
    "data = pd.read_excel(\"NLP_Data.xlsx\")\n"
   ]
  },
  {
   "cell_type": "code",
   "execution_count": 7,
   "id": "e156500d",
   "metadata": {},
   "outputs": [
    {
     "data": {
      "text/html": [
       "<div>\n",
       "<style scoped>\n",
       "    .dataframe tbody tr th:only-of-type {\n",
       "        vertical-align: middle;\n",
       "    }\n",
       "\n",
       "    .dataframe tbody tr th {\n",
       "        vertical-align: top;\n",
       "    }\n",
       "\n",
       "    .dataframe thead th {\n",
       "        text-align: right;\n",
       "    }\n",
       "</style>\n",
       "<table border=\"1\" class=\"dataframe\">\n",
       "  <thead>\n",
       "    <tr style=\"text-align: right;\">\n",
       "      <th></th>\n",
       "      <th>Description of the Grievance</th>\n",
       "      <th>Grievance Category</th>\n",
       "      <th>Grievance SubCategory</th>\n",
       "    </tr>\n",
       "  </thead>\n",
       "  <tbody>\n",
       "    <tr>\n",
       "      <th>0</th>\n",
       "      <td>concerns regarding laboratory tests being bill...</td>\n",
       "      <td>Billing/Financial Dispute</td>\n",
       "      <td>Provider Claim Issues</td>\n",
       "    </tr>\n",
       "    <tr>\n",
       "      <th>1</th>\n",
       "      <td>dassatifaction with provider</td>\n",
       "      <td>Quality Of Service</td>\n",
       "      <td>Not Satisfied With Provider Services</td>\n",
       "    </tr>\n",
       "    <tr>\n",
       "      <th>2</th>\n",
       "      <td>Dissatisafaction with delay in care.</td>\n",
       "      <td>Access And Availability</td>\n",
       "      <td>Pharmacy</td>\n",
       "    </tr>\n",
       "    <tr>\n",
       "      <th>3</th>\n",
       "      <td>Dissatisafaction with Dental provider way of c...</td>\n",
       "      <td>Quality Of Service</td>\n",
       "      <td>Not Satisfied With Provider Services</td>\n",
       "    </tr>\n",
       "    <tr>\n",
       "      <th>4</th>\n",
       "      <td>Dissatisfaction for not being informed he had ...</td>\n",
       "      <td>Billing/Financial Dispute</td>\n",
       "      <td>Balance Billing</td>\n",
       "    </tr>\n",
       "  </tbody>\n",
       "</table>\n",
       "</div>"
      ],
      "text/plain": [
       "                        Description of the Grievance  \\\n",
       "0  concerns regarding laboratory tests being bill...   \n",
       "1                       dassatifaction with provider   \n",
       "2              Dissatisafaction with delay in care.    \n",
       "3  Dissatisafaction with Dental provider way of c...   \n",
       "4  Dissatisfaction for not being informed he had ...   \n",
       "\n",
       "          Grievance Category                 Grievance SubCategory  \n",
       "0  Billing/Financial Dispute                 Provider Claim Issues  \n",
       "1         Quality Of Service  Not Satisfied With Provider Services  \n",
       "2    Access And Availability                              Pharmacy  \n",
       "3         Quality Of Service  Not Satisfied With Provider Services  \n",
       "4  Billing/Financial Dispute                       Balance Billing  "
      ]
     },
     "execution_count": 7,
     "metadata": {},
     "output_type": "execute_result"
    }
   ],
   "source": [
    "data.head()"
   ]
  },
  {
   "cell_type": "code",
   "execution_count": 8,
   "id": "952465a3",
   "metadata": {},
   "outputs": [],
   "source": [
    "# Extracting columns\n",
    "descriptions = data['Description of the Grievance']\n",
    "categories = data['Grievance Category']\n"
   ]
  },
  {
   "cell_type": "code",
   "execution_count": 9,
   "id": "f23c6ac6",
   "metadata": {},
   "outputs": [
    {
     "name": "stderr",
     "output_type": "stream",
     "text": [
      "[nltk_data] Downloading package punkt to\n",
      "[nltk_data]     C:\\Users\\KIIT\\AppData\\Roaming\\nltk_data...\n",
      "[nltk_data]   Package punkt is already up-to-date!\n",
      "[nltk_data] Downloading package stopwords to\n",
      "[nltk_data]     C:\\Users\\KIIT\\AppData\\Roaming\\nltk_data...\n",
      "[nltk_data]   Package stopwords is already up-to-date!\n"
     ]
    },
    {
     "name": "stdout",
     "output_type": "stream",
     "text": [
      "Skipping invalid description or category: Dissatisfaction with dental office nan\n",
      "Skipping invalid description or category: Dissatisfaction with Grossmont Dental in providing two different dental service estimates with a $200 difference and charging her over $1000 for a crown. \n",
      " nan\n",
      "Skipping invalid description or category: Dissatisfaction with having received mail correspondence to his former address although he has requested to change his address on several occasions.  nan\n",
      "Skipping invalid description or category: Dissatisfaction with Livanta's decision to uphold the skilled nursing facility end his Medicare covered services.  nan\n",
      "Skipping invalid description or category: Dissatisfaction with mail order being delivered to the incorrect address.  nan\n",
      "Skipping invalid description or category: Dissatisfaction with not having retina exam at Escondido Premier Eye Care. nan\n",
      "Skipping invalid description or category: Dissatisfaction with the dental benefit provider regarding the telephone call wait times, and not providing the website information or given an option to leave a message.   nan\n",
      "Skipping invalid description or category: Dissatisfaction with the quality of services received from a customer care representative. Duplicate case see - Grievance ID - GRVS_2021_000003 nan\n",
      "Skipping invalid description or category: Member dissatisfied with glasses. nan\n",
      "Skipping invalid description or category: Member dissatisfied with her full name not being on her insurance care due to spacing. nan\n",
      "Skipping invalid description or category: member dissatisfied with non payment of claim.  nan\n",
      "Skipping invalid description or category: Member dissatisfied with not being able to get contact lenses covered. Member relayed he had a eye surgery in 2015 in which a lens could not be replaced. He said that he now has to wear contact lenses for ever as a result. He relayed he was getting contacts shipped via SRS and now it has stopped. Member relayed the contacts should be covered medically. nan\n",
      "Skipping invalid description or category: Member dissatisfied with PCP services received on 4/1/22. Member states she fell on her mouth and called the provider on 4/1 but did not receive a call back until 4/5.  nan\n",
      "Skipping invalid description or category: Member dissatisfied with Retina Institute of alifornia located on 1620 Alpine Blvd Ste 117 Alpine CA 91901 (619) 445-2687 for filing a claim for services received on 1/11/2022. Member states that he told the office he would e paying out-of-pcoket for his lenses and asked the office not to bill his insurance. Member states that he was unhappy to hear the claim was filed.  nan\n",
      "Skipping invalid description or category: Member dissatisfied with the quality of care received on December 19, 2022 to January 3, 2023 from Ana Meigs, DDS. nan\n",
      "Skipping invalid description or category: Member dissatisfied with the quality of service received from orthopedic office. nan\n",
      "Skipping invalid description or category: Member dissatisfied with the shipment of Trelegy 90 days supply. Member states that he did not authorize the shipment. nan\n",
      "Skipping invalid description or category: Member's PCP requesting an expedited appeal of SCMG's denial of patient lift. PCP states that member is immobile and in a lot of pain due to past back surgery. nan\n",
      "Skipping invalid description or category: Member's spouse appealing the $150 bill received for services received on 2/8/2023 to 2/9/2023 from Palomar Health. nan\n",
      "Skipping invalid description or category: Member Xray technician advised the picture/images were not clear and did it again, the dentist then reviewed xray and checked her teeth, and member advised she just needs basic cleaning and he advised she needs deep cleaning. Member advised she only wanted to get services that were covered under her plan since she does not have money to pay for anything else. Member is dissatisfied she was not told code D0350 was not covered and now she is being billed 90.00. Member was encouraged to have deep cleaning by the dentist, which she states when she scheduled appt and confirmed that it would not be covered and she would have a cost share she canceled appt and did not get deep cleaning, since she does not have money to pay. How: Member would like to see this resolved by not being financially responsible for any charges for that dos, as she advised dentist office she did not want to get anything done that would not be covered by her plan. The dentist office assured her these services were covered. Member is dissatisfied they were not honest. The current needs were met by: CCR listened to the member, validated her concerns and assisted with Grievance..\n",
      "\n",
      "Appeal/Grievance time frame given:\n",
      "Your Appeal or Grievance that is “payment” related will be reviewed and completed within 60 calendar days.\n",
      "\n",
      " nan\n",
      "Skipping invalid description or category: Please describe your concerns in detail.*\n",
      "I need an MRI. Activity Road location can only see me after 6 PM at night. This is unacceptable for older\n",
      "people who do not like to drive when it’s dark. Grossmont Center MRI Office told me I needed to wait\n",
      "online on the phone at least 40 minutes before talking to a scheduler!!! 😫😫. Why doesn’t Sharp hire\n",
      "more people to help their patients and customers? This is totally unacceptable. I am thinking of switching\n",
      "to a different health plan because of this. nan\n",
      "Skipping invalid description or category: Test nan\n",
      "Skipping invalid description or category: Who: member. Why: member got a letter of denial from vsp for duplicate medical exam and evaluation. the cpt code is 92002. he got an eye exam on 11/25/2019 but not in 2020. member feels he should have been able to get another eye exam on another date.. When: 11/01/21. Where: Costco . What: pmg is SRS, claim number is 431437283. How: approve the claim. The current needs were met by: filed an appeal for the member. An acknowledgment letter will be sent within 5 calendar days and your case will be completed within 30 calendar days.\n",
      "\n",
      "Thank you, nan\n",
      "Skipping invalid description or category: nan Access And Availability\n",
      "Skipping invalid description or category: nan Quality Of Care\n",
      "Skipping invalid description or category: nan Quality Of Service\n"
     ]
    }
   ],
   "source": [
    "# Initialize NLTK and download necessary resources\n",
    "nltk.download('punkt')\n",
    "nltk.download('stopwords')\n",
    "stop_words = set(stopwords.words('english'))\n",
    "wnl = WordNetLemmatizer()\n",
    "\n",
    "# Text cleaning, tokenization, and lowercasing\n",
    "cleaned_texts = []\n",
    "cleaned_categories = []  # To store valid categories corresponding to cleaned texts\n",
    "for description, category in zip(descriptions, categories):\n",
    "    if isinstance(description, str) and isinstance(category, str):  # Check if both description and category are strings\n",
    "        words = word_tokenize(description)\n",
    "        words = [word.lower() for word in words if word.isalpha()]\n",
    "        words = [word for word in words if word not in stop_words]\n",
    "        words = [wnl.lemmatize(word) for word in words]\n",
    "        cleaned_texts.append(\" \".join(words))\n",
    "        cleaned_categories.append(category)  # Store the corresponding category\n",
    "    else:\n",
    "        print(\"Skipping invalid description or category:\", description, category)"
   ]
  },
  {
   "cell_type": "code",
   "execution_count": 10,
   "id": "b67aeea6",
   "metadata": {},
   "outputs": [],
   "source": [
    "# Remove any remaining NaN or empty string values\n",
    "cleaned_texts = [text for text in cleaned_texts if text]\n",
    "cleaned_categories = [category for category in cleaned_categories if isinstance(category, str)]\n"
   ]
  },
  {
   "cell_type": "code",
   "execution_count": 11,
   "id": "4d1ed667",
   "metadata": {},
   "outputs": [],
   "source": [
    "# TF-IDF Vectorization\n",
    "tfidf_vectorizer = TfidfVectorizer(max_features=1000)\n",
    "tfidf_matrix = tfidf_vectorizer.fit_transform(cleaned_texts)"
   ]
  },
  {
   "cell_type": "code",
   "execution_count": 13,
   "id": "9111d666",
   "metadata": {},
   "outputs": [],
   "source": [
    "# Split data\n",
    "X_train, X_test, y_train, y_test = train_test_split(tfidf_matrix, cleaned_categories, test_size=0.2, random_state=42)\n",
    "\n"
   ]
  },
  {
   "cell_type": "code",
   "execution_count": 14,
   "id": "40fac470",
   "metadata": {},
   "outputs": [],
   "source": [
    "# Convert sparse matrices to dense arrays for imputation\n",
    "X_train_dense = X_train.toarray()\n",
    "X_test_dense = X_test.toarray()"
   ]
  },
  {
   "cell_type": "code",
   "execution_count": 15,
   "id": "33e8ccde",
   "metadata": {},
   "outputs": [],
   "source": [
    "# Handle missing values in dense arrays\n",
    "imputer = SimpleImputer(strategy='constant', fill_value=0)  # Replace NaN with 0\n",
    "X_train_imputed = imputer.fit_transform(X_train_dense)\n",
    "X_test_imputed = imputer.transform(X_test_dense)"
   ]
  },
  {
   "cell_type": "code",
   "execution_count": 16,
   "id": "528b9204",
   "metadata": {},
   "outputs": [],
   "source": [
    "# Initialize XGBoost classifier\n",
    "xgb_classifier = XGBClassifier(n_estimators=100, random_state=42)"
   ]
  },
  {
   "cell_type": "code",
   "execution_count": 18,
   "id": "86eab8f6",
   "metadata": {},
   "outputs": [
    {
     "name": "stdout",
     "output_type": "stream",
     "text": [
      "XGBoost Accuracy: 1.0\n"
     ]
    }
   ],
   "source": [
    "# Convert boolean labels to integers (1 for True, 0 for False)\n",
    "y_train_int = [1 if label == 'True' else 0 for label in y_train]\n",
    "y_test_int = [1 if label == 'True' else 0 for label in y_test]\n",
    "\n",
    "# Initialize XGBoost classifier\n",
    "xgb_classifier = XGBClassifier(n_estimators=100, random_state=42)\n",
    "\n",
    "# Train the classifier\n",
    "xgb_classifier.fit(X_train_imputed, y_train_int)  # Use y_train_int instead of y_train\n",
    "\n",
    "# Predict using the classifier\n",
    "xgb_predictions = xgb_classifier.predict(X_test_imputed)\n",
    "\n",
    "# Calculate accuracy\n",
    "xgb_accuracy = accuracy_score(y_test_int, xgb_predictions)  # Use y_test_int instead of y_test\n",
    "\n",
    "print(\"XGBoost Accuracy:\", xgb_accuracy)\n"
   ]
  },
  {
   "cell_type": "code",
   "execution_count": 19,
   "id": "0d65e288",
   "metadata": {},
   "outputs": [
    {
     "name": "stdout",
     "output_type": "stream",
     "text": [
      "XGBoost Accuracy: 100.0 %\n"
     ]
    }
   ],
   "source": [
    "# Calculate accuracy and convert to percentage\n",
    "xgb_accuracy = accuracy_score(y_test_int, xgb_predictions) * 100\n",
    "\n",
    "print(\"XGBoost Accuracy:\", xgb_accuracy, \"%\")\n"
   ]
  },
  {
   "cell_type": "code",
   "execution_count": null,
   "id": "2fd06b54",
   "metadata": {},
   "outputs": [],
   "source": []
  }
 ],
 "metadata": {
  "kernelspec": {
   "display_name": "Python 3 (ipykernel)",
   "language": "python",
   "name": "python3"
  },
  "language_info": {
   "codemirror_mode": {
    "name": "ipython",
    "version": 3
   },
   "file_extension": ".py",
   "mimetype": "text/x-python",
   "name": "python",
   "nbconvert_exporter": "python",
   "pygments_lexer": "ipython3",
   "version": "3.9.12"
  }
 },
 "nbformat": 4,
 "nbformat_minor": 5
}
